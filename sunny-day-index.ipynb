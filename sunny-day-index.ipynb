{
 "cells": [
  {
   "attachments": {},
   "cell_type": "markdown",
   "id": "37343415",
   "metadata": {},
   "source": [
    "## Sunny Day Index Project\n",
    "## DS 3000 - Spring 2023 - Northeastern University\n",
    "## Authors: Brian Hayward, Jason Martinez, Noah Weinstein, Issac Schweiger\n",
    "___"
   ]
  },
  {
   "attachments": {},
   "cell_type": "markdown",
   "id": "cc7a7503",
   "metadata": {},
   "source": [
    "## Part 1: Data Processing and Analysis"
   ]
  },
  {
   "cell_type": "code",
   "execution_count": null,
   "id": "1bbc223e",
   "metadata": {},
   "outputs": [
    {
     "ename": "",
     "evalue": "",
     "output_type": "error",
     "traceback": [
      "\u001b[1;31mRunning cells with 'c:\\Users\\silen\\AppData\\Local\\Programs\\Python\\Python39\\python.exe' requires the ipykernel package.\n",
      "\u001b[1;31mRun the following command to install 'ipykernel' into the Python environment. \n",
      "\u001b[1;31mCommand: 'c:/Users/silen/AppData/Local/Programs/Python/Python39/python.exe -m pip install ipykernel -U --user --force-reinstall'"
     ]
    }
   ],
   "source": [
    "import pandas as pd\n",
    "import numpy as np\n",
    "from sklearn.ensemble import RandomForestRegressor\n",
    "from sklearn.model_selection import train_test_split\n",
    "from sklearn.neighbors import KNeighborsRegressor\n",
    "from sklearn.metrics import mean_squared_error, r2_score\n",
    "import matplotlib.pyplot as plt\n",
    "import seaborn as sns\n",
    "%pip install plotly\n",
    "import plotly.express as px\n",
    "sns.set_style('darkgrid')"
   ]
  },
  {
   "cell_type": "code",
   "execution_count": null,
   "id": "e7f5b4d0",
   "metadata": {},
   "outputs": [
    {
     "ename": "",
     "evalue": "",
     "output_type": "error",
     "traceback": [
      "\u001b[1;31mRunning cells with 'c:\\Users\\silen\\AppData\\Local\\Programs\\Python\\Python39\\python.exe' requires the ipykernel package.\n",
      "\u001b[1;31mRun the following command to install 'ipykernel' into the Python environment. \n",
      "\u001b[1;31mCommand: 'c:/Users/silen/AppData/Local/Programs/Python/Python39/python.exe -m pip install ipykernel -U --user --force-reinstall'"
     ]
    }
   ],
   "source": [
    "df = pd.read_csv('Data/Jan2017_to_Feb2023_data.csv', skiprows=3)\n",
    "df.info()"
   ]
  },
  {
   "cell_type": "code",
   "execution_count": null,
   "id": "5ac69d61",
   "metadata": {},
   "outputs": [
    {
     "ename": "",
     "evalue": "",
     "output_type": "error",
     "traceback": [
      "\u001b[1;31mRunning cells with 'c:\\Users\\silen\\AppData\\Local\\Programs\\Python\\Python39\\python.exe' requires the ipykernel package.\n",
      "\u001b[1;31mRun the following command to install 'ipykernel' into the Python environment. \n",
      "\u001b[1;31mCommand: 'c:/Users/silen/AppData/Local/Programs/Python/Python39/python.exe -m pip install ipykernel -U --user --force-reinstall'"
     ]
    }
   ],
   "source": [
    "df.isnull().sum()\n",
    "# there are no null values, meaning that this dataset probably needs minimal processing"
   ]
  },
  {
   "cell_type": "code",
   "execution_count": null,
   "id": "714f7a23",
   "metadata": {},
   "outputs": [
    {
     "ename": "",
     "evalue": "",
     "output_type": "error",
     "traceback": [
      "\u001b[1;31mRunning cells with 'c:\\Users\\silen\\AppData\\Local\\Programs\\Python\\Python39\\python.exe' requires the ipykernel package.\n",
      "\u001b[1;31mRun the following command to install 'ipykernel' into the Python environment. \n",
      "\u001b[1;31mCommand: 'c:/Users/silen/AppData/Local/Programs/Python/Python39/python.exe -m pip install ipykernel -U --user --force-reinstall'"
     ]
    }
   ],
   "source": [
    "df.rename(columns={'weathercode (wmo code)': 'weathercode', \n",
    "                   'temperature_2m_max (°F)':'max_temperature', \n",
    "                   'temperature_2m_min (°F)':'min_temperature',\n",
    "                   'temperature_2m_mean (°F)':'mean_temperature', \n",
    "                   'apparent_temperature_max (°F)':'max_feels_like', \n",
    "                   'apparent_temperature_min (°F)':'min_feels_like', \n",
    "                   'apparent_temperature_mean (°F)':'mean_feels_like', \n",
    "                   'sunrise (iso8601)':'sunrise_time', \n",
    "                   'sunset (iso8601)':'sunset_time', \n",
    "                   'shortwave_radiation_sum (MJ/m²)':'solar_radiation_sum', \n",
    "                   'rain_sum (inch)':'total_rainfall',\n",
    "                   'snowfall_sum (inch)':'total_snowfall', \n",
    "                   'windspeed_10m_max (mp/h)':'max_windspeed', \n",
    "                   'windgusts_10m_max (mp/h)':'max_windgusts'}, inplace=True)\n",
    "df.info()"
   ]
  },
  {
   "cell_type": "code",
   "execution_count": null,
   "id": "e862550d",
   "metadata": {},
   "outputs": [
    {
     "ename": "",
     "evalue": "",
     "output_type": "error",
     "traceback": [
      "\u001b[1;31mRunning cells with 'c:\\Users\\silen\\AppData\\Local\\Programs\\Python\\Python39\\python.exe' requires the ipykernel package.\n",
      "\u001b[1;31mRun the following command to install 'ipykernel' into the Python environment. \n",
      "\u001b[1;31mCommand: 'c:/Users/silen/AppData/Local/Programs/Python/Python39/python.exe -m pip install ipykernel -U --user --force-reinstall'"
     ]
    }
   ],
   "source": [
    "df['time'] = pd.to_datetime(df['time'])\n",
    "df['weathercode'] = df['weathercode'].astype('category')\n",
    "df['sunrise_time'] = pd.to_datetime(df['sunrise_time'])\n",
    "df['sunset_time'] = pd.to_datetime(df['sunset_time'])\n",
    "df.info()"
   ]
  },
  {
   "cell_type": "code",
   "execution_count": null,
   "id": "5a1e729f",
   "metadata": {},
   "outputs": [
    {
     "ename": "",
     "evalue": "",
     "output_type": "error",
     "traceback": [
      "\u001b[1;31mRunning cells with 'c:\\Users\\silen\\AppData\\Local\\Programs\\Python\\Python39\\python.exe' requires the ipykernel package.\n",
      "\u001b[1;31mRun the following command to install 'ipykernel' into the Python environment. \n",
      "\u001b[1;31mCommand: 'c:/Users/silen/AppData/Local/Programs/Python/Python39/python.exe -m pip install ipykernel -U --user --force-reinstall'"
     ]
    }
   ],
   "source": [
    "df.head()\n",
    "\n",
    "#TODO EXTEND THE EDA WITH MORE DATA"
   ]
  },
  {
   "cell_type": "code",
   "execution_count": null,
   "id": "679457b8",
   "metadata": {},
   "outputs": [
    {
     "ename": "",
     "evalue": "",
     "output_type": "error",
     "traceback": [
      "\u001b[1;31mRunning cells with 'c:\\Users\\silen\\AppData\\Local\\Programs\\Python\\Python39\\python.exe' requires the ipykernel package.\n",
      "\u001b[1;31mRun the following command to install 'ipykernel' into the Python environment. \n",
      "\u001b[1;31mCommand: 'c:/Users/silen/AppData/Local/Programs/Python/Python39/python.exe -m pip install ipykernel -U --user --force-reinstall'"
     ]
    }
   ],
   "source": [
    "fig = px.scatter(df,\n",
    "              x = 'time',\n",
    "              y = 'max_temperature',\n",
    "              title = 'Max Temperature Over Time',\n",
    "              color='max_temperature',\n",
    "              color_continuous_scale='bluered',\n",
    "              labels = {\n",
    "                  'time': 'Time (UTC)', \n",
    "                  'max_temperature': 'Max Temperature (°F)'\n",
    "                  })\n",
    "fig.update_xaxes(rangeslider_visible=True)"
   ]
  },
  {
   "cell_type": "code",
   "execution_count": null,
   "id": "7d295eb2",
   "metadata": {},
   "outputs": [
    {
     "ename": "",
     "evalue": "",
     "output_type": "error",
     "traceback": [
      "\u001b[1;31mRunning cells with 'c:\\Users\\silen\\AppData\\Local\\Programs\\Python\\Python39\\python.exe' requires the ipykernel package.\n",
      "\u001b[1;31mRun the following command to install 'ipykernel' into the Python environment. \n",
      "\u001b[1;31mCommand: 'c:/Users/silen/AppData/Local/Programs/Python/Python39/python.exe -m pip install ipykernel -U --user --force-reinstall'"
     ]
    }
   ],
   "source": [
    "fig = px.scatter(df,\n",
    "              x = 'time',\n",
    "              y = 'min_temperature',\n",
    "              title = 'Minimum Temperature Over Time',\n",
    "              color='min_temperature',\n",
    "              color_continuous_scale='bluered',\n",
    "              labels={\n",
    "                  'time': 'Time (UTC)', \n",
    "                  'min_temperature': 'Minimum Temperature (°F)'}\n",
    "              )\n",
    "fig.update_xaxes(rangeslider_visible=True)"
   ]
  },
  {
   "cell_type": "code",
   "execution_count": null,
   "id": "9ed09003",
   "metadata": {},
   "outputs": [
    {
     "ename": "",
     "evalue": "",
     "output_type": "error",
     "traceback": [
      "\u001b[1;31mRunning cells with 'c:\\Users\\silen\\AppData\\Local\\Programs\\Python\\Python39\\python.exe' requires the ipykernel package.\n",
      "\u001b[1;31mRun the following command to install 'ipykernel' into the Python environment. \n",
      "\u001b[1;31mCommand: 'c:/Users/silen/AppData/Local/Programs/Python/Python39/python.exe -m pip install ipykernel -U --user --force-reinstall'"
     ]
    }
   ],
   "source": [
    "fig = px.scatter(df, \n",
    "              x='time',\n",
    "              y='mean_temperature', \n",
    "              title='Mean Temperature Over Time',\n",
    "              color='mean_temperature',\n",
    "              color_continuous_scale='bluered',\n",
    "              labels={\n",
    "                  'time':'Time', \n",
    "                  'mean_temperature':'Mean Temperature (°F)'\n",
    "                  })\n",
    "fig.update_xaxes(rangeslider_visible=True)"
   ]
  },
  {
   "cell_type": "code",
   "execution_count": null,
   "id": "46bae6f5",
   "metadata": {},
   "outputs": [
    {
     "ename": "",
     "evalue": "",
     "output_type": "error",
     "traceback": [
      "\u001b[1;31mRunning cells with 'c:\\Users\\silen\\AppData\\Local\\Programs\\Python\\Python39\\python.exe' requires the ipykernel package.\n",
      "\u001b[1;31mRun the following command to install 'ipykernel' into the Python environment. \n",
      "\u001b[1;31mCommand: 'c:/Users/silen/AppData/Local/Programs/Python/Python39/python.exe -m pip install ipykernel -U --user --force-reinstall'"
     ]
    }
   ],
   "source": [
    "fig = px.scatter(df, \n",
    "              x='time', \n",
    "              y='solar_radiation_sum', \n",
    "              title='Solar Radiation Over Time', \n",
    "              color='solar_radiation_sum',\n",
    "              color_continuous_scale='sunset_r',\n",
    "              labels={\n",
    "                  'solar_radiation_sum':'Solar Radiation (MJ/m²)',\n",
    "                  'time':'Time (UTC)'})\n",
    "fig.update_xaxes(rangeslider_visible=True)"
   ]
  },
  {
   "cell_type": "code",
   "execution_count": null,
   "id": "c7ca77fa",
   "metadata": {},
   "outputs": [
    {
     "ename": "",
     "evalue": "",
     "output_type": "error",
     "traceback": [
      "\u001b[1;31mRunning cells with 'c:\\Users\\silen\\AppData\\Local\\Programs\\Python\\Python39\\python.exe' requires the ipykernel package.\n",
      "\u001b[1;31mRun the following command to install 'ipykernel' into the Python environment. \n",
      "\u001b[1;31mCommand: 'c:/Users/silen/AppData/Local/Programs/Python/Python39/python.exe -m pip install ipykernel -U --user --force-reinstall'"
     ]
    }
   ],
   "source": [
    "fig = px.scatter(df,\n",
    "        x='time',\n",
    "        y='total_rainfall',\n",
    "        color='total_rainfall',\n",
    "        color_continuous_scale='ice_r',\n",
    "        title='Total Rainfall Over Time',\n",
    "        labels={\n",
    "                'total_rainfall':'Total Rainfall (in)', \n",
    "                'time':'Time (UTC)'\n",
    "                })\n",
    "fig.update_xaxes(rangeslider_visible=True)"
   ]
  },
  {
   "cell_type": "code",
   "execution_count": null,
   "id": "5b24583b",
   "metadata": {},
   "outputs": [
    {
     "ename": "",
     "evalue": "",
     "output_type": "error",
     "traceback": [
      "\u001b[1;31mRunning cells with 'c:\\Users\\silen\\AppData\\Local\\Programs\\Python\\Python39\\python.exe' requires the ipykernel package.\n",
      "\u001b[1;31mRun the following command to install 'ipykernel' into the Python environment. \n",
      "\u001b[1;31mCommand: 'c:/Users/silen/AppData/Local/Programs/Python/Python39/python.exe -m pip install ipykernel -U --user --force-reinstall'"
     ]
    }
   ],
   "source": [
    "fig = px.scatter(df,\n",
    "              x='max_windspeed',\n",
    "              y = 'total_rainfall',\n",
    "              color='total_rainfall',\n",
    "              )\n",
    "fig.update_xaxes(rangeslider_visible=True)"
   ]
  },
  {
   "attachments": {},
   "cell_type": "markdown",
   "id": "744e7199",
   "metadata": {},
   "source": [
    "## Part 2: Splitting Data into Training and Testing Sets"
   ]
  },
  {
   "cell_type": "code",
   "execution_count": null,
   "id": "04babfc0",
   "metadata": {},
   "outputs": [
    {
     "ename": "",
     "evalue": "",
     "output_type": "error",
     "traceback": [
      "\u001b[1;31mRunning cells with 'c:\\Users\\silen\\AppData\\Local\\Programs\\Python\\Python39\\python.exe' requires the ipykernel package.\n",
      "\u001b[1;31mRun the following command to install 'ipykernel' into the Python environment. \n",
      "\u001b[1;31mCommand: 'c:/Users/silen/AppData/Local/Programs/Python/Python39/python.exe -m pip install ipykernel -U --user --force-reinstall'"
     ]
    }
   ],
   "source": [
    "X   = df[['weathercode', \n",
    "           'max_temperature', \n",
    "           'min_temperature',\n",
    "           'mean_temperature', \n",
    "           'max_feels_like', \n",
    "           'min_feels_like', \n",
    "           'mean_feels_like', \n",
    "           'solar_radiation_sum', \n",
    "           'total_snowfall', \n",
    "           'max_windspeed', \n",
    "           'max_windgusts']] #get the input features\n",
    "y   = df['total_rainfall'] #get the target TODO MAKE IT PRECIPITATION WHICH IS EQUIVALENT TO THE SUM OF TOTAL_RAINFALL AND TOTAL_SNOWFALL\n",
    "\n",
    "X_train, X_test, y_train, y_test = train_test_split(X,              #the input features\n",
    "                                                    y,              #the label\n",
    "                                                    test_size=0.3,  #set aside 30% of the data as the test set\n",
    "                                                    random_state=7 #reproduce the results\n",
    "                                                   )"
   ]
  },
  {
   "attachments": {},
   "cell_type": "markdown",
   "id": "12763c9c",
   "metadata": {},
   "source": [
    "## Part 3: Building a Random Forest Regressor"
   ]
  },
  {
   "cell_type": "code",
   "execution_count": null,
   "id": "a1ab1dda",
   "metadata": {},
   "outputs": [
    {
     "ename": "",
     "evalue": "",
     "output_type": "error",
     "traceback": [
      "\u001b[1;31mRunning cells with 'c:\\Users\\silen\\AppData\\Local\\Programs\\Python\\Python39\\python.exe' requires the ipykernel package.\n",
      "\u001b[1;31mRun the following command to install 'ipykernel' into the Python environment. \n",
      "\u001b[1;31mCommand: 'c:/Users/silen/AppData/Local/Programs/Python/Python39/python.exe -m pip install ipykernel -U --user --force-reinstall'"
     ]
    }
   ],
   "source": [
    "rf = RandomForestRegressor(random_state=7)\n",
    "rf.fit(X_train, y_train)"
   ]
  },
  {
   "cell_type": "code",
   "execution_count": null,
   "id": "9750da34",
   "metadata": {},
   "outputs": [
    {
     "ename": "",
     "evalue": "",
     "output_type": "error",
     "traceback": [
      "\u001b[1;31mRunning cells with 'c:\\Users\\silen\\AppData\\Local\\Programs\\Python\\Python39\\python.exe' requires the ipykernel package.\n",
      "\u001b[1;31mRun the following command to install 'ipykernel' into the Python environment. \n",
      "\u001b[1;31mCommand: 'c:/Users/silen/AppData/Local/Programs/Python/Python39/python.exe -m pip install ipykernel -U --user --force-reinstall'"
     ]
    }
   ],
   "source": [
    "#predict the labels for the test set\n",
    "y_pred   = rf.predict(X_test)\n",
    "\n",
    "print('The predicted precipitation is: {}'.format(y_pred))"
   ]
  },
  {
   "cell_type": "code",
   "execution_count": null,
   "id": "28d3b870",
   "metadata": {},
   "outputs": [
    {
     "ename": "",
     "evalue": "",
     "output_type": "error",
     "traceback": [
      "\u001b[1;31mRunning cells with 'c:\\Users\\silen\\AppData\\Local\\Programs\\Python\\Python39\\python.exe' requires the ipykernel package.\n",
      "\u001b[1;31mRun the following command to install 'ipykernel' into the Python environment. \n",
      "\u001b[1;31mCommand: 'c:/Users/silen/AppData/Local/Programs/Python/Python39/python.exe -m pip install ipykernel -U --user --force-reinstall'"
     ]
    }
   ],
   "source": [
    "mse = mean_squared_error(y_test, y_pred)\n",
    "\n",
    "# Evaluate the Predictions\n",
    "print('The mse of the model is: {}'.format(mse))"
   ]
  },
  {
   "cell_type": "code",
   "execution_count": null,
   "id": "7dec3075",
   "metadata": {},
   "outputs": [
    {
     "ename": "",
     "evalue": "",
     "output_type": "error",
     "traceback": [
      "\u001b[1;31mRunning cells with 'c:\\Users\\silen\\AppData\\Local\\Programs\\Python\\Python39\\python.exe' requires the ipykernel package.\n",
      "\u001b[1;31mRun the following command to install 'ipykernel' into the Python environment. \n",
      "\u001b[1;31mCommand: 'c:/Users/silen/AppData/Local/Programs/Python/Python39/python.exe -m pip install ipykernel -U --user --force-reinstall'"
     ]
    }
   ],
   "source": [
    "# Update target variable\n",
    "y = df['total_rainfall'] + df['total_snowfall']\n",
    "\n",
    "# Train the model\n",
    "rf = RandomForestRegressor(random_state=7)\n",
    "rf.fit(X, y)  # Train on the entire dataset\n",
    "\n",
    "\n",
    "# Create a function to generate new data based on trends\n",
    "def extrapolate_data(df, start_year, end_year):\n",
    "    years_to_extrapolate = end_year - start_year\n",
    "    df_ext = df.copy()\n",
    "    \n",
    "    for i in range(1, years_to_extrapolate + 1):\n",
    "        df_temp = df.copy()\n",
    "        df_temp['time'] = df_temp['time'] + pd.DateOffset(years=i)\n",
    "        df_temp['sunrise_time'] = df_temp['sunrise_time'] + pd.DateOffset(years=i)\n",
    "        df_temp['sunset_time'] = df_temp['sunset_time'] + pd.DateOffset(years=i)\n",
    "        df_ext = pd.concat([df_ext, df_temp], ignore_index=True)\n",
    "    \n",
    "    return df_ext\n",
    "\n",
    "# Extrapolate data up to 2028\n",
    "df_2028 = extrapolate_data(df, 2023, 2028)\n",
    "\n",
    "# Extract input features for the extrapolated data\n",
    "X_2028 = df_2028[['weathercode', \n",
    "                  'max_temperature', \n",
    "                  'min_temperature',\n",
    "                  'mean_temperature', \n",
    "                  'max_feels_like', \n",
    "                  'min_feels_like', \n",
    "                  'mean_feels_like', \n",
    "                  'solar_radiation_sum', \n",
    "                  'total_snowfall', \n",
    "                  'max_windspeed', \n",
    "                  'max_windgusts']]\n",
    "\n",
    "# Make predictions for 2023-2028\n",
    "y_pred_2028 = rf.predict(X_2028)\n",
    "\n",
    "# Add predictions to the dataframe\n",
    "df_2028['predicted_precipitation'] = y_pred_2028\n",
    "\n",
    "# Save the predictions to a CSV file\n",
    "df_2028.to_csv('Predicted_Weather_2023_to_2028.csv', index=False)\n",
    "\n",
    "print(\"Predictions for 2023-2028 have been saved to 'Predicted_Weather_2023_to_2028.csv'\")"
   ]
  },
  {
   "cell_type": "code",
   "execution_count": null,
   "id": "82195bc6",
   "metadata": {},
   "outputs": [
    {
     "ename": "",
     "evalue": "",
     "output_type": "error",
     "traceback": [
      "\u001b[1;31mRunning cells with 'c:\\Users\\silen\\AppData\\Local\\Programs\\Python\\Python39\\python.exe' requires the ipykernel package.\n",
      "\u001b[1;31mRun the following command to install 'ipykernel' into the Python environment. \n",
      "\u001b[1;31mCommand: 'c:/Users/silen/AppData/Local/Programs/Python/Python39/python.exe -m pip install ipykernel -U --user --force-reinstall'"
     ]
    }
   ],
   "source": [
    "import plotly.express as px  # Import the Plotly express module\n",
    "\n",
    "# Plotting the actual vs predicted precipitation using seaborn and matplotlib\n",
    "plt.figure(figsize=(10, 6))\n",
    "sns.scatterplot(x=y_test, y=y_pred, alpha=0.8)\n",
    "plt.xlabel('Actual Precipitation')\n",
    "plt.ylabel('Predicted Precipitation')\n",
    "plt.title('Actual vs Predicted Precipitation - Random Forest Regressor')\n",
    "plt.show()\n",
    "\n",
    "# Plotting the distribution of prediction errors using seaborn\n",
    "error = y_test - y_pred\n",
    "plt.figure(figsize=(10, 6))\n",
    "sns.histplot(error, kde=True, bins=30)\n",
    "plt.xlabel('Prediction Error')\n",
    "plt.ylabel('Frequency')\n",
    "plt.title('Distribution of Prediction Error - Random Forest Regressor')\n",
    "plt.show()"
   ]
  },
  {
   "cell_type": "code",
   "execution_count": null,
   "id": "71cf12fc",
   "metadata": {},
   "outputs": [
    {
     "ename": "",
     "evalue": "",
     "output_type": "error",
     "traceback": [
      "\u001b[1;31mRunning cells with 'c:\\Users\\silen\\AppData\\Local\\Programs\\Python\\Python39\\python.exe' requires the ipykernel package.\n",
      "\u001b[1;31mRun the following command to install 'ipykernel' into the Python environment. \n",
      "\u001b[1;31mCommand: 'c:/Users/silen/AppData/Local/Programs/Python/Python39/python.exe -m pip install ipykernel -U --user --force-reinstall'"
     ]
    }
   ],
   "source": [
    "import matplotlib.pyplot as plt\n",
    "import seaborn as sns\n",
    "\n",
    "# Convert 'time' to pandas datetime format\n",
    "df_2028['time'] = pd.to_datetime(df_2028['time'])\n",
    "\n",
    "# Plot predicted precipitation over time\n",
    "plt.figure(figsize=(12, 6))\n",
    "sns.lineplot(x='time', y='predicted_precipitation', data=df_2028)\n",
    "plt.xlabel('Date')\n",
    "plt.ylabel('Predicted Precipitation')\n",
    "plt.title('Predicted Precipitation Over Time - Random Forest Regressor')\n",
    "plt.show()\n",
    "\n",
    "# Calculate yearly average predicted precipitation\n",
    "df_2028['year'] = df_2028['time'].dt.year\n",
    "yearly_avg_pred_precip = df_2028.groupby('year')['predicted_precipitation'].mean()\n",
    "\n",
    "# Plot yearly average predicted precipitation\n",
    "plt.figure(figsize=(12, 6))\n",
    "sns.barplot(x=yearly_avg_pred_precip.index, y=yearly_avg_pred_precip.values)\n",
    "plt.xlabel('Year')\n",
    "plt.ylabel('Yearly Average Predicted Precipitation')\n",
    "plt.title('Yearly Average Predicted Precipitation (2023-2028) - Random Forest Regressor')\n",
    "plt.show()"
   ]
  },
  {
   "attachments": {},
   "cell_type": "markdown",
   "id": "927af287",
   "metadata": {},
   "source": [
    "## Part 4: Building a K-Nearest Neighbors Regressor"
   ]
  },
  {
   "cell_type": "code",
   "execution_count": null,
   "id": "fb929a96",
   "metadata": {},
   "outputs": [
    {
     "ename": "",
     "evalue": "",
     "output_type": "error",
     "traceback": [
      "\u001b[1;31mRunning cells with 'c:\\Users\\silen\\AppData\\Local\\Programs\\Python\\Python39\\python.exe' requires the ipykernel package.\n",
      "\u001b[1;31mRun the following command to install 'ipykernel' into the Python environment. \n",
      "\u001b[1;31mCommand: 'c:/Users/silen/AppData/Local/Programs/Python/Python39/python.exe -m pip install ipykernel -U --user --force-reinstall'"
     ]
    }
   ],
   "source": [
    "k = 5  # Set the number of neighbors you want to consider\n",
    "knn = KNeighborsRegressor(n_neighbors=k)\n",
    "knn.fit(X_train, y_train)\n",
    "\n",
    "y_pred = knn.predict(X_test)\n",
    "\n",
    "mse = mean_squared_error(y_test, y_pred)\n",
    "r2 = r2_score(y_test, y_pred)\n",
    "\n",
    "print(\"Mean Squared Error:\", mse)\n",
    "print(\"R-squared:\", r2)"
   ]
  },
  {
   "cell_type": "code",
   "execution_count": null,
   "id": "3e306645",
   "metadata": {},
   "outputs": [
    {
     "ename": "",
     "evalue": "",
     "output_type": "error",
     "traceback": [
      "\u001b[1;31mRunning cells with 'c:\\Users\\silen\\AppData\\Local\\Programs\\Python\\Python39\\python.exe' requires the ipykernel package.\n",
      "\u001b[1;31mRun the following command to install 'ipykernel' into the Python environment. \n",
      "\u001b[1;31mCommand: 'c:/Users/silen/AppData/Local/Programs/Python/Python39/python.exe -m pip install ipykernel -U --user --force-reinstall'"
     ]
    }
   ],
   "source": [
    "# Plotting the actual vs predicted precipitation using seaborn and matplotlib\n",
    "plt.figure(figsize=(10, 6))\n",
    "sns.scatterplot(x=y_test, y=y_pred, alpha=0.8)\n",
    "plt.xlabel('Actual Precipitation')\n",
    "plt.ylabel('Predicted Precipitation')\n",
    "plt.title('Actual vs Predicted Precipitation')\n",
    "plt.show()\n",
    "\n",
    "# Plotting the distribution of prediction errors using seaborn\n",
    "error = y_test - y_pred\n",
    "plt.figure(figsize=(10, 6))\n",
    "sns.histplot(error, kde=True, bins=30)\n",
    "plt.xlabel('Prediction Error')\n",
    "plt.ylabel('Frequency')\n",
    "plt.title('Distribution of Prediction Errors')\n",
    "plt.show()"
   ]
  },
  {
   "cell_type": "code",
   "execution_count": null,
   "id": "5be190fe",
   "metadata": {},
   "outputs": [
    {
     "ename": "",
     "evalue": "",
     "output_type": "error",
     "traceback": [
      "\u001b[1;31mRunning cells with 'c:\\Users\\silen\\AppData\\Local\\Programs\\Python\\Python39\\python.exe' requires the ipykernel package.\n",
      "\u001b[1;31mRun the following command to install 'ipykernel' into the Python environment. \n",
      "\u001b[1;31mCommand: 'c:/Users/silen/AppData/Local/Programs/Python/Python39/python.exe -m pip install ipykernel -U --user --force-reinstall'"
     ]
    }
   ],
   "source": [
    "# Convert 'time' to pandas datetime format\n",
    "df_2028['time'] = pd.to_datetime(df_2028['time'])\n",
    "\n",
    "# Plot predicted precipitation over time\n",
    "plt.figure(figsize=(12, 6))\n",
    "sns.lineplot(x='time', y='predicted_precipitation', data=df_2028)\n",
    "plt.xlabel('Date')\n",
    "plt.ylabel('Predicted Precipitation')\n",
    "plt.title('Predicted Precipitation Over Time')\n",
    "plt.show()\n",
    "\n",
    "# Calculate yearly average predicted precipitation\n",
    "df_2028['year'] = df_2028['time'].dt.year\n",
    "yearly_avg_pred_precip = df_2028.groupby('year')['predicted_precipitation'].mean()\n",
    "\n",
    "# Plot yearly average predicted precipitation\n",
    "plt.figure(figsize=(12, 6))\n",
    "sns.barplot(x=yearly_avg_pred_precip.index, y=yearly_avg_pred_precip.values)\n",
    "plt.xlabel('Year')\n",
    "plt.ylabel('Yearly Average Predicted Precipitation')\n",
    "plt.title('Yearly Average Predicted Precipitation (2023-2028)')\n",
    "plt.show()"
   ]
  },
  {
   "cell_type": "code",
   "execution_count": null,
   "id": "1f1552a6",
   "metadata": {},
   "outputs": [
    {
     "ename": "",
     "evalue": "",
     "output_type": "error",
     "traceback": [
      "\u001b[1;31mRunning cells with 'c:\\Users\\silen\\AppData\\Local\\Programs\\Python\\Python39\\python.exe' requires the ipykernel package.\n",
      "\u001b[1;31mRun the following command to install 'ipykernel' into the Python environment. \n",
      "\u001b[1;31mCommand: 'c:/Users/silen/AppData/Local/Programs/Python/Python39/python.exe -m pip install ipykernel -U --user --force-reinstall'"
     ]
    }
   ],
   "source": [
    "import pandas as pd\n",
    "from sklearn.model_selection import train_test_split\n",
    "from sklearn.svm import SVR\n",
    "from sklearn.metrics import mean_squared_error\n",
    "from sklearn.preprocessing import StandardScaler\n",
    "\n",
    "scaler = StandardScaler()\n",
    "X_train = scaler.fit_transform(X_train)\n",
    "X_test = scaler.transform(X_test)\n",
    "\n",
    "svm_model = SVR()\n",
    "svm_model.fit(X_train, y_train)\n",
    "\n",
    "y_pred = svm_model.predict(X_test)\n",
    "mse = mean_squared_error(y_test, y_pred)\n",
    "print(\"Mean Squared Error:\", mse)"
   ]
  },
  {
   "cell_type": "code",
   "execution_count": null,
   "id": "976d1af6",
   "metadata": {},
   "outputs": [
    {
     "ename": "",
     "evalue": "",
     "output_type": "error",
     "traceback": [
      "\u001b[1;31mRunning cells with 'c:\\Users\\silen\\AppData\\Local\\Programs\\Python\\Python39\\python.exe' requires the ipykernel package.\n",
      "\u001b[1;31mRun the following command to install 'ipykernel' into the Python environment. \n",
      "\u001b[1;31mCommand: 'c:/Users/silen/AppData/Local/Programs/Python/Python39/python.exe -m pip install ipykernel -U --user --force-reinstall'"
     ]
    }
   ],
   "source": [
    "X_new = df_2028[['weathercode', 'max_temperature', 'min_temperature', 'mean_temperature', 'max_feels_like', 'min_feels_like', 'mean_feels_like', 'solar_radiation_sum', 'total_snowfall', 'max_windspeed', 'max_windgusts']]\n",
    "X_new_scaled = scaler.transform(X_new)\n",
    "\n",
    "predicted_precipitation = svm_model.predict(X_new_scaled)\n",
    "df_2028['predicted_precipitation'] = predicted_precipitation"
   ]
  },
  {
   "cell_type": "code",
   "execution_count": null,
   "id": "f4fa2b1b",
   "metadata": {},
   "outputs": [
    {
     "ename": "",
     "evalue": "",
     "output_type": "error",
     "traceback": [
      "\u001b[1;31mRunning cells with 'c:\\Users\\silen\\AppData\\Local\\Programs\\Python\\Python39\\python.exe' requires the ipykernel package.\n",
      "\u001b[1;31mRun the following command to install 'ipykernel' into the Python environment. \n",
      "\u001b[1;31mCommand: 'c:/Users/silen/AppData/Local/Programs/Python/Python39/python.exe -m pip install ipykernel -U --user --force-reinstall'"
     ]
    }
   ],
   "source": [
    "import matplotlib.pyplot as plt\n",
    "import seaborn as sns\n",
    "\n",
    "# Convert 'time' to pandas datetime format\n",
    "df_2028['time'] = pd.to_datetime(df_2028['time'])\n",
    "df_2028 = df_2028.set_index('time')\n",
    "\n",
    "# Calculate the average precipitation in a week for each month\n",
    "weekly_avg_precip = df_2028.resample('W')['predicted_precipitation'].mean()\n",
    "\n",
    "# Plot weekly average predicted precipitation\n",
    "plt.figure(figsize=(15, 6))\n",
    "sns.lineplot(x=weekly_avg_precip.index, y=weekly_avg_precip.values)\n",
    "plt.xlabel('Date')\n",
    "plt.ylabel('Weekly Average Predicted Precipitation')\n",
    "plt.title('Weekly Average Predicted Precipitation Over Time')\n",
    "plt.show()\n",
    "\n",
    "# Calculate yearly average predicted precipitation\n",
    "yearly_avg_pred_precip = df_2028.resample('Y')['predicted_precipitation'].mean()\n",
    "\n",
    "# Plot yearly average predicted precipitation\n",
    "plt.figure(figsize=(12, 6))\n",
    "sns.barplot(x=yearly_avg_pred_precip.index.year, y=yearly_avg_pred_precip.values)\n",
    "plt.xlabel('Year')\n",
    "plt.ylabel('Yearly Average Predicted Precipitation')\n",
    "plt.title('Yearly Average Predicted Precipitation (2023-2028)')\n",
    "plt.show()"
   ]
  }
 ],
 "metadata": {
  "kernelspec": {
   "display_name": "Python 3 (ipykernel)",
   "language": "python",
   "name": "python3"
  },
  "language_info": {
   "codemirror_mode": {
    "name": "ipython",
    "version": 3
   },
   "file_extension": ".py",
   "mimetype": "text/x-python",
   "name": "python",
   "nbconvert_exporter": "python",
   "pygments_lexer": "ipython3",
   "version": "3.9.1"
  }
 },
 "nbformat": 4,
 "nbformat_minor": 5
}

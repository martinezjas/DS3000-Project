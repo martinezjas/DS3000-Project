{
 "cells": [
  {
   "cell_type": "code",
   "execution_count": 1,
   "metadata": {},
   "outputs": [],
   "source": [
    "import pandas as pd\n",
    "import numpy as np"
   ]
  },
  {
   "cell_type": "code",
   "execution_count": 2,
   "metadata": {},
   "outputs": [
    {
     "name": "stdout",
     "output_type": "stream",
     "text": [
      "<class 'pandas.core.frame.DataFrame'>\n",
      "RangeIndex: 2243 entries, 0 to 2242\n",
      "Data columns (total 15 columns):\n",
      " #   Column                           Non-Null Count  Dtype  \n",
      "---  ------                           --------------  -----  \n",
      " 0   time                             2243 non-null   object \n",
      " 1   weathercode (wmo code)           2243 non-null   int64  \n",
      " 2   temperature_2m_max (°F)          2243 non-null   float64\n",
      " 3   temperature_2m_min (°F)          2243 non-null   float64\n",
      " 4   temperature_2m_mean (°F)         2243 non-null   float64\n",
      " 5   apparent_temperature_max (°F)    2243 non-null   float64\n",
      " 6   apparent_temperature_min (°F)    2243 non-null   float64\n",
      " 7   apparent_temperature_mean (°F)   2243 non-null   float64\n",
      " 8   sunrise (iso8601)                2243 non-null   object \n",
      " 9   sunset (iso8601)                 2243 non-null   object \n",
      " 10  shortwave_radiation_sum (MJ/m²)  2243 non-null   float64\n",
      " 11  rain_sum (inch)                  2243 non-null   float64\n",
      " 12  snowfall_sum (inch)              2243 non-null   float64\n",
      " 13  windspeed_10m_max (mp/h)         2243 non-null   float64\n",
      " 14  windgusts_10m_max (mp/h)         2243 non-null   float64\n",
      "dtypes: float64(11), int64(1), object(3)\n",
      "memory usage: 263.0+ KB\n"
     ]
    }
   ],
   "source": [
    "df = pd.read_csv('Jan2017_to_Feb2023_data.csv', skiprows=3)\n",
    "df.info()"
   ]
  },
  {
   "cell_type": "code",
   "execution_count": 3,
   "metadata": {},
   "outputs": [
    {
     "data": {
      "text/plain": [
       "time                               0\n",
       "weathercode (wmo code)             0\n",
       "temperature_2m_max (°F)            0\n",
       "temperature_2m_min (°F)            0\n",
       "temperature_2m_mean (°F)           0\n",
       "apparent_temperature_max (°F)      0\n",
       "apparent_temperature_min (°F)      0\n",
       "apparent_temperature_mean (°F)     0\n",
       "sunrise (iso8601)                  0\n",
       "sunset (iso8601)                   0\n",
       "shortwave_radiation_sum (MJ/m²)    0\n",
       "rain_sum (inch)                    0\n",
       "snowfall_sum (inch)                0\n",
       "windspeed_10m_max (mp/h)           0\n",
       "windgusts_10m_max (mp/h)           0\n",
       "dtype: int64"
      ]
     },
     "execution_count": 3,
     "metadata": {},
     "output_type": "execute_result"
    }
   ],
   "source": [
    "df.isnull().sum()\n",
    "# there are no null values, meaning that this dataset probably needs minimal processing"
   ]
  },
  {
   "cell_type": "code",
   "execution_count": 4,
   "metadata": {},
   "outputs": [
    {
     "name": "stdout",
     "output_type": "stream",
     "text": [
      "<class 'pandas.core.frame.DataFrame'>\n",
      "RangeIndex: 2243 entries, 0 to 2242\n",
      "Data columns (total 15 columns):\n",
      " #   Column               Non-Null Count  Dtype  \n",
      "---  ------               --------------  -----  \n",
      " 0   time                 2243 non-null   object \n",
      " 1   weathercode          2243 non-null   int64  \n",
      " 2   max_temperature      2243 non-null   float64\n",
      " 3   min_temperature      2243 non-null   float64\n",
      " 4   mean_temperature     2243 non-null   float64\n",
      " 5   max_feels_like       2243 non-null   float64\n",
      " 6   min_feels_like       2243 non-null   float64\n",
      " 7   mean_feels_like      2243 non-null   float64\n",
      " 8   sunrise_time         2243 non-null   object \n",
      " 9   sunset_time          2243 non-null   object \n",
      " 10  solar_radiation_sum  2243 non-null   float64\n",
      " 11  total_rainfall       2243 non-null   float64\n",
      " 12  total_snowfall       2243 non-null   float64\n",
      " 13  max_windspeed        2243 non-null   float64\n",
      " 14  max_windgusts        2243 non-null   float64\n",
      "dtypes: float64(11), int64(1), object(3)\n",
      "memory usage: 263.0+ KB\n"
     ]
    }
   ],
   "source": [
    "df.rename(columns={'weathercode (wmo code)': 'weathercode', 'temperature_2m_max (°F)':'max_temperature', 'temperature_2m_min (°F)':'min_temperature', 'temperature_2m_mean (°F)':'mean_temperature', 'apparent_temperature_max (°F)':'max_feels_like', 'apparent_temperature_min (°F)':'min_feels_like', 'apparent_temperature_mean (°F)':'mean_feels_like', 'sunrise (iso8601)':'sunrise_time', 'sunset (iso8601)':'sunset_time', 'shortwave_radiation_sum (MJ/m²)':'solar_radiation_sum', 'rain_sum (inch)':'total_rainfall', 'snowfall_sum (inch)':'total_snowfall', 'windspeed_10m_max (mp/h)':'max_windspeed', 'windgusts_10m_max (mp/h)':'max_windgusts'}, inplace=True)\n",
    "df.info()"
   ]
  },
  {
   "cell_type": "code",
   "execution_count": 5,
   "metadata": {},
   "outputs": [
    {
     "name": "stdout",
     "output_type": "stream",
     "text": [
      "<class 'pandas.core.frame.DataFrame'>\n",
      "RangeIndex: 2243 entries, 0 to 2242\n",
      "Data columns (total 15 columns):\n",
      " #   Column               Non-Null Count  Dtype         \n",
      "---  ------               --------------  -----         \n",
      " 0   time                 2243 non-null   datetime64[ns]\n",
      " 1   weathercode          2243 non-null   category      \n",
      " 2   max_temperature      2243 non-null   float64       \n",
      " 3   min_temperature      2243 non-null   float64       \n",
      " 4   mean_temperature     2243 non-null   float64       \n",
      " 5   max_feels_like       2243 non-null   float64       \n",
      " 6   min_feels_like       2243 non-null   float64       \n",
      " 7   mean_feels_like      2243 non-null   float64       \n",
      " 8   sunrise_time         2243 non-null   datetime64[ns]\n",
      " 9   sunset_time          2243 non-null   datetime64[ns]\n",
      " 10  solar_radiation_sum  2243 non-null   float64       \n",
      " 11  total_rainfall       2243 non-null   float64       \n",
      " 12  total_snowfall       2243 non-null   float64       \n",
      " 13  max_windspeed        2243 non-null   float64       \n",
      " 14  max_windgusts        2243 non-null   float64       \n",
      "dtypes: category(1), datetime64[ns](3), float64(11)\n",
      "memory usage: 248.3 KB\n"
     ]
    }
   ],
   "source": [
    "df['time'] = pd.to_datetime(df['time'])\n",
    "df['weathercode'] = df['weathercode'].astype('category')\n",
    "df['sunrise_time'] = pd.to_datetime(df['sunrise_time'])\n",
    "df['sunset_time'] = pd.to_datetime(df['sunset_time'])\n",
    "df.info()"
   ]
  },
  {
   "cell_type": "code",
   "execution_count": 6,
   "metadata": {},
   "outputs": [
    {
     "data": {
      "text/html": [
       "<div>\n",
       "<style scoped>\n",
       "    .dataframe tbody tr th:only-of-type {\n",
       "        vertical-align: middle;\n",
       "    }\n",
       "\n",
       "    .dataframe tbody tr th {\n",
       "        vertical-align: top;\n",
       "    }\n",
       "\n",
       "    .dataframe thead th {\n",
       "        text-align: right;\n",
       "    }\n",
       "</style>\n",
       "<table border=\"1\" class=\"dataframe\">\n",
       "  <thead>\n",
       "    <tr style=\"text-align: right;\">\n",
       "      <th></th>\n",
       "      <th>time</th>\n",
       "      <th>weathercode</th>\n",
       "      <th>max_temperature</th>\n",
       "      <th>min_temperature</th>\n",
       "      <th>mean_temperature</th>\n",
       "      <th>max_feels_like</th>\n",
       "      <th>min_feels_like</th>\n",
       "      <th>mean_feels_like</th>\n",
       "      <th>sunrise_time</th>\n",
       "      <th>sunset_time</th>\n",
       "      <th>solar_radiation_sum</th>\n",
       "      <th>total_rainfall</th>\n",
       "      <th>total_snowfall</th>\n",
       "      <th>max_windspeed</th>\n",
       "      <th>max_windgusts</th>\n",
       "    </tr>\n",
       "  </thead>\n",
       "  <tbody>\n",
       "    <tr>\n",
       "      <th>0</th>\n",
       "      <td>2017-01-01</td>\n",
       "      <td>3</td>\n",
       "      <td>46.6</td>\n",
       "      <td>30.0</td>\n",
       "      <td>39.7</td>\n",
       "      <td>27.2</td>\n",
       "      <td>39.2</td>\n",
       "      <td>34.1</td>\n",
       "      <td>2017-01-01 07:18:00</td>\n",
       "      <td>2017-01-01 16:41:00</td>\n",
       "      <td>9.01</td>\n",
       "      <td>0.000</td>\n",
       "      <td>0.000</td>\n",
       "      <td>11.3</td>\n",
       "      <td>23.7</td>\n",
       "    </tr>\n",
       "    <tr>\n",
       "      <th>1</th>\n",
       "      <td>2017-01-02</td>\n",
       "      <td>53</td>\n",
       "      <td>40.3</td>\n",
       "      <td>29.4</td>\n",
       "      <td>35.9</td>\n",
       "      <td>25.3</td>\n",
       "      <td>32.8</td>\n",
       "      <td>29.8</td>\n",
       "      <td>2017-01-02 07:18:00</td>\n",
       "      <td>2017-01-02 16:42:00</td>\n",
       "      <td>1.00</td>\n",
       "      <td>0.136</td>\n",
       "      <td>0.000</td>\n",
       "      <td>9.8</td>\n",
       "      <td>18.3</td>\n",
       "    </tr>\n",
       "    <tr>\n",
       "      <th>2</th>\n",
       "      <td>2017-01-03</td>\n",
       "      <td>61</td>\n",
       "      <td>43.0</td>\n",
       "      <td>39.4</td>\n",
       "      <td>41.0</td>\n",
       "      <td>31.6</td>\n",
       "      <td>38.1</td>\n",
       "      <td>34.8</td>\n",
       "      <td>2017-01-03 07:18:00</td>\n",
       "      <td>2017-01-03 16:43:00</td>\n",
       "      <td>0.83</td>\n",
       "      <td>0.379</td>\n",
       "      <td>0.000</td>\n",
       "      <td>13.6</td>\n",
       "      <td>24.8</td>\n",
       "    </tr>\n",
       "    <tr>\n",
       "      <th>3</th>\n",
       "      <td>2017-01-04</td>\n",
       "      <td>51</td>\n",
       "      <td>50.3</td>\n",
       "      <td>31.2</td>\n",
       "      <td>41.9</td>\n",
       "      <td>24.9</td>\n",
       "      <td>42.6</td>\n",
       "      <td>36.5</td>\n",
       "      <td>2017-01-04 07:18:00</td>\n",
       "      <td>2017-01-04 16:43:00</td>\n",
       "      <td>4.58</td>\n",
       "      <td>0.012</td>\n",
       "      <td>0.000</td>\n",
       "      <td>14.8</td>\n",
       "      <td>29.8</td>\n",
       "    </tr>\n",
       "    <tr>\n",
       "      <th>4</th>\n",
       "      <td>2017-01-05</td>\n",
       "      <td>71</td>\n",
       "      <td>32.7</td>\n",
       "      <td>27.5</td>\n",
       "      <td>29.7</td>\n",
       "      <td>17.0</td>\n",
       "      <td>24.0</td>\n",
       "      <td>21.1</td>\n",
       "      <td>2017-01-05 07:18:00</td>\n",
       "      <td>2017-01-05 16:44:00</td>\n",
       "      <td>6.15</td>\n",
       "      <td>0.000</td>\n",
       "      <td>0.056</td>\n",
       "      <td>12.5</td>\n",
       "      <td>24.8</td>\n",
       "    </tr>\n",
       "  </tbody>\n",
       "</table>\n",
       "</div>"
      ],
      "text/plain": [
       "        time weathercode  max_temperature  min_temperature  mean_temperature  \\\n",
       "0 2017-01-01           3             46.6             30.0              39.7   \n",
       "1 2017-01-02          53             40.3             29.4              35.9   \n",
       "2 2017-01-03          61             43.0             39.4              41.0   \n",
       "3 2017-01-04          51             50.3             31.2              41.9   \n",
       "4 2017-01-05          71             32.7             27.5              29.7   \n",
       "\n",
       "   max_feels_like  min_feels_like  mean_feels_like        sunrise_time  \\\n",
       "0            27.2            39.2             34.1 2017-01-01 07:18:00   \n",
       "1            25.3            32.8             29.8 2017-01-02 07:18:00   \n",
       "2            31.6            38.1             34.8 2017-01-03 07:18:00   \n",
       "3            24.9            42.6             36.5 2017-01-04 07:18:00   \n",
       "4            17.0            24.0             21.1 2017-01-05 07:18:00   \n",
       "\n",
       "          sunset_time  solar_radiation_sum  total_rainfall  total_snowfall  \\\n",
       "0 2017-01-01 16:41:00                 9.01           0.000           0.000   \n",
       "1 2017-01-02 16:42:00                 1.00           0.136           0.000   \n",
       "2 2017-01-03 16:43:00                 0.83           0.379           0.000   \n",
       "3 2017-01-04 16:43:00                 4.58           0.012           0.000   \n",
       "4 2017-01-05 16:44:00                 6.15           0.000           0.056   \n",
       "\n",
       "   max_windspeed  max_windgusts  \n",
       "0           11.3           23.7  \n",
       "1            9.8           18.3  \n",
       "2           13.6           24.8  \n",
       "3           14.8           29.8  \n",
       "4           12.5           24.8  "
      ]
     },
     "execution_count": 6,
     "metadata": {},
     "output_type": "execute_result"
    }
   ],
   "source": [
    "df.head()"
   ]
  }
 ],
 "metadata": {
  "kernelspec": {
   "display_name": "Python 3",
   "language": "python",
   "name": "python3"
  },
  "language_info": {
   "codemirror_mode": {
    "name": "ipython",
    "version": 3
   },
   "file_extension": ".py",
   "mimetype": "text/x-python",
   "name": "python",
   "nbconvert_exporter": "python",
   "pygments_lexer": "ipython3",
   "version": "3.9.7"
  },
  "orig_nbformat": 4,
  "vscode": {
   "interpreter": {
    "hash": "a448012e187023f257952e296b597efd69b222d50cb6c81ed25e736180ead91b"
   }
  }
 },
 "nbformat": 4,
 "nbformat_minor": 2
}
